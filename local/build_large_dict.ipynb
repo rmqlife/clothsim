{
 "cells": [
  {
   "cell_type": "code",
   "execution_count": 35,
   "metadata": {},
   "outputs": [
    {
     "name": "stdout",
     "output_type": "stream",
     "text": [
      "depth_sim_bg.npy\n",
      "9 ['24/acc02/depth_sim_bg.npy', '24/acc03/depth_sim_bg.npy', '24/acc032/depth_sim_bg.npy', '24/arc0/depth_sim_bg.npy', '24/arc1/depth_sim_bg.npy', '24/fix0/depth_sim_bg.npy', '24/fix6/depth_sim_bg.npy', '24/rand02/depth_sim_bg.npy', '24/twist-expert/depth_sim_bg.npy']\n",
      "(66786, 4096)\n",
      "expert.npy\n",
      "9 ['24/acc02/expert.npy', '24/acc03/expert.npy', '24/acc032/expert.npy', '24/arc0/expert.npy', '24/arc1/expert.npy', '24/fix0/expert.npy', '24/fix6/expert.npy', '24/rand02/expert.npy', '24/twist-expert/expert.npy']\n",
      "(66786, 6)\n",
      "handles.npy\n",
      "9 ['24/acc02/handles.npy', '24/acc03/handles.npy', '24/acc032/handles.npy', '24/arc0/handles.npy', '24/arc1/handles.npy', '24/fix0/handles.npy', '24/fix6/handles.npy', '24/rand02/handles.npy', '24/twist-expert/handles.npy']\n",
      "(66786, 12)\n"
     ]
    }
   ],
   "source": [
    "from util import *\n",
    "import os\n",
    "\n",
    "\n",
    "def merge_same_name_npy(home):\n",
    "    matlist = get_filelist(home, ext='npy')\n",
    "\n",
    "    filedict = {}\n",
    "    for fn in matlist:\n",
    "        base = fn.split(os.sep)[-1]\n",
    "        if base in filedict:    \n",
    "            filedict[base] += [fn]\n",
    "        else:\n",
    "            filedict[base] = [fn]\n",
    "    to_pop = []\n",
    "    for key in filedict:\n",
    "        if len(filedict[key])==1:\n",
    "            to_pop += [key]\n",
    "    for key in to_pop:\n",
    "        filedict.pop(key)\n",
    "    for key in filedict:\n",
    "        print(key)\n",
    "        print(len(filedict[key]),filedict[key])\n",
    "\n",
    "        tt_mat = np.array([])\n",
    "        for fn in filedict[key]:\n",
    "            mat = np.load(fn)\n",
    "            tt_mat = stack_vector(mat=tt_mat, vec=mat)\n",
    "        print(tt_mat.shape)\n",
    "        np.save(os.path.join(home,key), tt_mat)\n",
    "    pass\n",
    "\n",
    "if __name__==\"__main__\":\n",
    "    merge_same_name_npy('24/')\n"
   ]
  },
  {
   "cell_type": "code",
   "execution_count": null,
   "metadata": {
    "collapsed": true
   },
   "outputs": [],
   "source": []
  }
 ],
 "metadata": {
  "kernelspec": {
   "display_name": "Python 3",
   "language": "python",
   "name": "python3"
  },
  "language_info": {
   "codemirror_mode": {
    "name": "ipython",
    "version": 3
   },
   "file_extension": ".py",
   "mimetype": "text/x-python",
   "name": "python",
   "nbconvert_exporter": "python",
   "pygments_lexer": "ipython3",
   "version": "3.6.3"
  }
 },
 "nbformat": 4,
 "nbformat_minor": 2
}

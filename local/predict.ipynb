{
 "cells": [
  {
   "cell_type": "code",
   "execution_count": 378,
   "metadata": {},
   "outputs": [
    {
     "ename": "FileNotFoundError",
     "evalue": "[Errno 2] No such file or directory: '22/fix7/depth_sim_bg.npy'",
     "output_type": "error",
     "traceback": [
      "\u001b[0;31m---------------------\u001b[0m",
      "\u001b[0;31mFileNotFoundError\u001b[0mTraceback (most recent call last)",
      "\u001b[0;32m<ipython-input-378-b942e5dfa141>\u001b[0m in \u001b[0;36m<module>\u001b[0;34m()\u001b[0m\n\u001b[1;32m     42\u001b[0m \u001b[0;32mif\u001b[0m \u001b[0m__name__\u001b[0m\u001b[0;34m==\u001b[0m\u001b[0;34m\"__main__\"\u001b[0m\u001b[0;34m:\u001b[0m\u001b[0;34m\u001b[0m\u001b[0m\n\u001b[1;32m     43\u001b[0m     \u001b[0msim_dir\u001b[0m \u001b[0;34m=\u001b[0m \u001b[0;34m'22/fix7'\u001b[0m\u001b[0;34m\u001b[0m\u001b[0m\n\u001b[0;32m---> 44\u001b[0;31m     \u001b[0mdepth_sim\u001b[0m \u001b[0;34m=\u001b[0m \u001b[0mnp\u001b[0m\u001b[0;34m.\u001b[0m\u001b[0mload\u001b[0m\u001b[0;34m(\u001b[0m\u001b[0mos\u001b[0m\u001b[0;34m.\u001b[0m\u001b[0mpath\u001b[0m\u001b[0;34m.\u001b[0m\u001b[0mjoin\u001b[0m\u001b[0;34m(\u001b[0m\u001b[0msim_dir\u001b[0m\u001b[0;34m,\u001b[0m\u001b[0;34m'depth_sim_bg.npy'\u001b[0m\u001b[0;34m)\u001b[0m\u001b[0;34m)\u001b[0m\u001b[0;34m\u001b[0m\u001b[0m\n\u001b[0m\u001b[1;32m     45\u001b[0m     \u001b[0mhint_sim\u001b[0m \u001b[0;34m=\u001b[0m \u001b[0mnp\u001b[0m\u001b[0;34m.\u001b[0m\u001b[0mload\u001b[0m\u001b[0;34m(\u001b[0m\u001b[0mos\u001b[0m\u001b[0;34m.\u001b[0m\u001b[0mpath\u001b[0m\u001b[0;34m.\u001b[0m\u001b[0mjoin\u001b[0m\u001b[0;34m(\u001b[0m\u001b[0msim_dir\u001b[0m\u001b[0;34m,\u001b[0m\u001b[0;34m'handles.npy'\u001b[0m\u001b[0;34m)\u001b[0m\u001b[0;34m)\u001b[0m\u001b[0;34m[\u001b[0m\u001b[0;34m:\u001b[0m\u001b[0;34m,\u001b[0m\u001b[0;34m-\u001b[0m\u001b[0;36m6\u001b[0m\u001b[0;34m:\u001b[0m\u001b[0;34m]\u001b[0m\u001b[0;34m\u001b[0m\u001b[0m\n\u001b[1;32m     46\u001b[0m     \u001b[0mpos_sim\u001b[0m \u001b[0;34m=\u001b[0m \u001b[0mnp\u001b[0m\u001b[0;34m.\u001b[0m\u001b[0mload\u001b[0m\u001b[0;34m(\u001b[0m\u001b[0mos\u001b[0m\u001b[0;34m.\u001b[0m\u001b[0mpath\u001b[0m\u001b[0;34m.\u001b[0m\u001b[0mjoin\u001b[0m\u001b[0;34m(\u001b[0m\u001b[0msim_dir\u001b[0m\u001b[0;34m,\u001b[0m\u001b[0;34m'expert.npy'\u001b[0m\u001b[0;34m)\u001b[0m\u001b[0;34m)\u001b[0m\u001b[0;34m\u001b[0m\u001b[0m\n",
      "\u001b[0;32m~/anaconda3/lib/python3.6/site-packages/numpy/lib/npyio.py\u001b[0m in \u001b[0;36mload\u001b[0;34m(file, mmap_mode, allow_pickle, fix_imports, encoding)\u001b[0m\n\u001b[1;32m    370\u001b[0m     \u001b[0mown_fid\u001b[0m \u001b[0;34m=\u001b[0m \u001b[0;32mFalse\u001b[0m\u001b[0;34m\u001b[0m\u001b[0m\n\u001b[1;32m    371\u001b[0m     \u001b[0;32mif\u001b[0m \u001b[0misinstance\u001b[0m\u001b[0;34m(\u001b[0m\u001b[0mfile\u001b[0m\u001b[0;34m,\u001b[0m \u001b[0mbasestring\u001b[0m\u001b[0;34m)\u001b[0m\u001b[0;34m:\u001b[0m\u001b[0;34m\u001b[0m\u001b[0m\n\u001b[0;32m--> 372\u001b[0;31m         \u001b[0mfid\u001b[0m \u001b[0;34m=\u001b[0m \u001b[0mopen\u001b[0m\u001b[0;34m(\u001b[0m\u001b[0mfile\u001b[0m\u001b[0;34m,\u001b[0m \u001b[0;34m\"rb\"\u001b[0m\u001b[0;34m)\u001b[0m\u001b[0;34m\u001b[0m\u001b[0m\n\u001b[0m\u001b[1;32m    373\u001b[0m         \u001b[0mown_fid\u001b[0m \u001b[0;34m=\u001b[0m \u001b[0;32mTrue\u001b[0m\u001b[0;34m\u001b[0m\u001b[0m\n\u001b[1;32m    374\u001b[0m     \u001b[0;32melif\u001b[0m \u001b[0mis_pathlib_path\u001b[0m\u001b[0;34m(\u001b[0m\u001b[0mfile\u001b[0m\u001b[0;34m)\u001b[0m\u001b[0;34m:\u001b[0m\u001b[0;34m\u001b[0m\u001b[0m\n",
      "\u001b[0;31mFileNotFoundError\u001b[0m: [Errno 2] No such file or directory: '22/fix7/depth_sim_bg.npy'"
     ]
    }
   ],
   "source": [
    "import numpy as np\n",
    "import cv2\n",
    "import matplotlib.pyplot as plt\n",
    "from scipy.spatial import cKDTree\n",
    "from predict import *\n",
    "from util import *\n",
    "\n",
    "\n",
    "\n",
    "class Finder:\n",
    "    def __init__(self, depth_sim, pos_sim, hint_sim):\n",
    "        self.use_simple=True\n",
    "        self.debug=False\n",
    "        self.pos_sim = pos_sim\n",
    "        self.hint_sim = hint_sim\n",
    "        self.depth_sim = depth_sim\n",
    "        if self.use_simple:\n",
    "            self.nn = Nearest(depth_sim)\n",
    "        \n",
    "        pass\n",
    "    \n",
    "    def get_target2(self, vec, hint):\n",
    "        ans = closest(vec=hint, mat=self.hint_sim, thresh=0.05)\n",
    "        print(ans)\n",
    "    \n",
    "    def get_target(self, vec):\n",
    "        if self.use_simple:\n",
    "            pred, ans = nearest_predict(vec=vec\n",
    "                                      ,mat=self.depth_sim\n",
    "                                      ,pos=self.pos_sim)\n",
    "        else:\n",
    "            dist, ans = self.nn.findNeigh(depth_orig[i,:])\n",
    "            pred = pos_sim[ans]\n",
    "        if self.debug:\n",
    "            vis_depth(depth_orig[i,:])\n",
    "            vis_depth(depth_sim[ans,:])\n",
    "        \n",
    "        pred = pred.tolist()\n",
    "        pred = pred[-3:]+pred[:3]\n",
    "        return pred, self.depth_sim[ans]\n",
    "\n",
    "if __name__==\"__main__\":\n",
    "    sim_dir = '22/fix7'\n",
    "    depth_sim = np.load(os.path.join(sim_dir,'depth_sim_bg.npy'))\n",
    "    hint_sim = np.load(os.path.join(sim_dir,'handles.npy'))[:,-6:]\n",
    "    pos_sim = np.load(os.path.join(sim_dir,'expert.npy'))\n",
    "    print(\"loaded\",depth_sim.shape, pos_sim.shape, hint_sim.shape)\n",
    "    finder = Finder(depth_sim, pos_sim, hint_sim)\n",
    "    orig_dir = '22'\n",
    "    depth_orig = np.load(os.path.join(orig_dir,'depth_orig.npy'))\n",
    "    hint_orig = np.load(os.path.join(orig_dir,'robot_pos.npy'))\n",
    "    # depth_sim = np.load('realtest/depth_sim_real.npy')\n",
    "    # pos_sim = np.load('realtest/handles.npy')[:,-6:]\n",
    "    ind = 0\n",
    "    vec = depth_orig[ind,:]\n",
    "    target, matched = finder.get_target(vec)\n",
    "    vis_depth(vec)\n",
    "    vis_depth(matched)\n",
    "    print(target)\n",
    "    \n",
    "\n"
   ]
  },
  {
   "cell_type": "code",
   "execution_count": 401,
   "metadata": {},
   "outputs": [
    {
     "name": "stdout",
     "output_type": "stream",
     "text": [
      "loaded (9749, 4096) (9749, 6) (9749, 6)\n"
     ]
    }
   ],
   "source": [
    "\n",
    "# depth_sim = np.load('realtest/depth_sim_real.npy')\n",
    "# pos_sim = np.load('realtest/handles.npy')[:,-6:]"
   ]
  },
  {
   "cell_type": "code",
   "execution_count": 569,
   "metadata": {},
   "outputs": [
    {
     "name": "stdout",
     "output_type": "stream",
     "text": [
      "loaded (66786, 4096) (66786, 6) (66786, 6)\n",
      "62\n",
      "hint [0.3993032075145547, 0.16769152300767004, 0.398669532286989, 0.4197444304130641, -0.0984540825335974, 0.42088998506987807]\n",
      "cands 27\n"
     ]
    },
    {
     "data": {
      "image/png": "[encoded data removed]",
      "text/plain": [
       "<matplotlib.figure.Figure at 0x7f8d4e6557b8>"
      ]
     },
     "metadata": {},
     "output_type": "display_data"
    },
    {
     "name": "stdout",
     "output_type": "stream",
     "text": [
      "target [0.43430270949947875, 0.22028112049783868, 0.37878612931474687, 0.41501382437224554, -0.012025336452150055, 0.43975069189647326]\n"
     ]
    },
    {
     "data": {
      "image/png": "[encoded data removed]",
      "text/plain": [
       "<matplotlib.figure.Figure at 0x7f8d4e4f00b8>"
      ]
     },
     "metadata": {},
     "output_type": "display_data"
    }
   ],
   "source": [
    "def closest(vec, mat,thresh):\n",
    "    res = np.zeros(mat.shape[0])\n",
    "    ans = []\n",
    "    for i in range(mat.shape[0]):\n",
    "        vec2 = mat[i,:]\n",
    "        from numpy.linalg import norm\n",
    "        dist1 = norm(vec[:3]-vec2[:3])\n",
    "        dist2 = norm(vec[-3:]-vec2[-3:])\n",
    "        #print(dist)\n",
    "        if dist1<thresh and dist2<thresh:\n",
    "            ans = ans + [i]\n",
    "        \n",
    "    return ans\n",
    "def nearest_predict(vec,mat,pos):\n",
    "    vec = vec.astype(int)\n",
    "    mat = mat.astype(int)\n",
    "    res = np.zeros(mat.shape[0])\n",
    "    for i in range(mat.shape[0]):\n",
    "        vec2= mat[i,:]\n",
    "        dt = np.sum(abs(vec-vec2))\n",
    "        res[i]=dt\n",
    "    # find top answer's indices in mat\n",
    "    ans = np.argsort(res)[:1]\n",
    "#     for i in ans:\n",
    "#         vis_depth(mat[i,:])\n",
    "    return np.mean(pos[ans], axis=0), mat[ans[0]]\n",
    "\n",
    "def find_target(depth, hint):\n",
    "    hint = hint[-3:]+hint[:3]\n",
    "    cands = closest(vec=hint, mat=hint_sim, thresh=0.08)\n",
    "    print(\"cands\",len(cands))\n",
    "    if (len(cands)>0):\n",
    "        pred, vec = nearest_predict(vec=depth, mat=depth_sim[cands], pos=pos_sim[cands])\n",
    "        vis_depth(vec)\n",
    "        pred = pred.tolist()\n",
    "        pred = pred[-3:]+pred[:3]\n",
    "        return pred\n",
    "    print(\"no solution!\")\n",
    "    hint = hint[-3:]+hint[:3]\n",
    "    return hint\n",
    "\n",
    "import numpy as np\n",
    "import os\n",
    "from predict import *\n",
    "\n",
    "orig_dir = '22/'\n",
    "depth_orig = np.load(os.path.join(orig_dir,'depth_orig.npy'))\n",
    "hint_orig = np.load(os.path.join(orig_dir,'robot_pos.npy'))\n",
    "\n",
    "\n",
    "sim_dir = './24/'\n",
    "depth_sim = np.load(os.path.join(sim_dir,'depth_sim_bg.npy'))\n",
    "hint_sim = np.load(os.path.join(sim_dir,'handles.npy'))[:,-6:]\n",
    "pos_sim = np.load(os.path.join(sim_dir,'expert.npy'))\n",
    "print(\"loaded\",depth_sim.shape, pos_sim.shape, hint_sim.shape)\n",
    "\n",
    "\n",
    "\n",
    "import random\n",
    "ind = random.randint(1,depth_orig.shape[0])\n",
    "print(ind)\n",
    "depth = depth_orig[ind,:]\n",
    "hint = hint_orig[ind,:].tolist()\n",
    "print(\"hint\",hint)\n",
    "print(\"target\",find_target(depth,hint))\n",
    "\n",
    "vis_depth(depth)\n"
   ]
  },
  {
   "cell_type": "code",
   "execution_count": 572,
   "metadata": {},
   "outputs": [
    {
     "name": "stdout",
     "output_type": "stream",
     "text": [
      "hint [0.33226166323346706, 0.15180572921378732, 0.4055989789774468, 0.3856458597899362, -0.13698745315203614, 0.41928799823128166]\n",
      "cands 0\n",
      "no solution!\n",
      "target [0.33226166323346706, 0.15180572921378732, 0.4055989789774468, 0.3856458597899362, -0.13698745315203614, 0.41928799823128166]\n"
     ]
    },
    {
     "data": {
      "image/png": "[encoded data removed]",
      "text/plain": [
       "<matplotlib.figure.Figure at 0x7f8d4ae3aeb8>"
      ]
     },
     "metadata": {},
     "output_type": "display_data"
    }
   ],
   "source": [
    "import random\n",
    "print\n",
    "ind = random.randint(1,depth_orig.shape[0])\n",
    "depth = depth_orig[ind,:]\n",
    "hint = hint_orig[ind,:].tolist()\n",
    "print(\"hint\",hint)\n",
    "print(\"target\",find_target(depth,hint))\n",
    "\n",
    "vis_depth(depth)\n"
   ]
  },
  {
   "cell_type": "code",
   "execution_count": 143,
   "metadata": {},
   "outputs": [
    {
     "ename": "IndexError",
     "evalue": "index 7882 is out of bounds for axis 0 with size 4500",
     "output_type": "error",
     "traceback": [
      "\u001b[0;31m---------------------\u001b[0m",
      "\u001b[0;31mIndexError\u001b[0mTraceback (most recent call last)",
      "\u001b[0;32m<ipython-input-143-6d40c3aaa4da>\u001b[0m in \u001b[0;36m<module>\u001b[0;34m()\u001b[0m\n\u001b[1;32m      2\u001b[0m \u001b[0mind\u001b[0m \u001b[0;34m=\u001b[0m \u001b[0mrandom\u001b[0m\u001b[0;34m.\u001b[0m\u001b[0mrandint\u001b[0m\u001b[0;34m(\u001b[0m\u001b[0;36m1\u001b[0m\u001b[0;34m,\u001b[0m\u001b[0mdepth_orig\u001b[0m\u001b[0;34m.\u001b[0m\u001b[0mshape\u001b[0m\u001b[0;34m[\u001b[0m\u001b[0;36m0\u001b[0m\u001b[0;34m]\u001b[0m\u001b[0;34m)\u001b[0m\u001b[0;34m\u001b[0m\u001b[0m\n\u001b[1;32m      3\u001b[0m \u001b[0mvec\u001b[0m \u001b[0;34m=\u001b[0m \u001b[0mdepth_orig\u001b[0m\u001b[0;34m[\u001b[0m\u001b[0mind\u001b[0m\u001b[0;34m,\u001b[0m\u001b[0;34m:\u001b[0m\u001b[0;34m]\u001b[0m\u001b[0;34m\u001b[0m\u001b[0m\n\u001b[0;32m----> 4\u001b[0;31m \u001b[0mtarget\u001b[0m\u001b[0;34m,\u001b[0m \u001b[0mmatched\u001b[0m \u001b[0;34m=\u001b[0m \u001b[0mfinder\u001b[0m\u001b[0;34m.\u001b[0m\u001b[0mget_target\u001b[0m\u001b[0;34m(\u001b[0m\u001b[0mvec\u001b[0m\u001b[0;34m)\u001b[0m\u001b[0;34m\u001b[0m\u001b[0m\n\u001b[0m\u001b[1;32m      5\u001b[0m \u001b[0mprint\u001b[0m\u001b[0;34m(\u001b[0m\u001b[0mtarget\u001b[0m\u001b[0;34m)\u001b[0m\u001b[0;34m\u001b[0m\u001b[0m\n\u001b[1;32m      6\u001b[0m \u001b[0mvis_depth\u001b[0m\u001b[0;34m(\u001b[0m\u001b[0mvec\u001b[0m\u001b[0;34m)\u001b[0m\u001b[0;34m\u001b[0m\u001b[0m\n",
      "\u001b[0;32m<ipython-input-62-27b1b7f031b5>\u001b[0m in \u001b[0;36mget_target\u001b[0;34m(self, vec)\u001b[0m\n\u001b[1;32m     38\u001b[0m         \u001b[0mpred\u001b[0m \u001b[0;34m=\u001b[0m \u001b[0mpred\u001b[0m\u001b[0;34m.\u001b[0m\u001b[0mtolist\u001b[0m\u001b[0;34m(\u001b[0m\u001b[0;34m)\u001b[0m\u001b[0;34m\u001b[0m\u001b[0m\n\u001b[1;32m     39\u001b[0m         \u001b[0mpred\u001b[0m \u001b[0;34m=\u001b[0m \u001b[0mpred\u001b[0m\u001b[0;34m[\u001b[0m\u001b[0;34m-\u001b[0m\u001b[0;36m3\u001b[0m\u001b[0;34m:\u001b[0m\u001b[0;34m]\u001b[0m\u001b[0;34m+\u001b[0m\u001b[0mpred\u001b[0m\u001b[0;34m[\u001b[0m\u001b[0;34m:\u001b[0m\u001b[0;36m3\u001b[0m\u001b[0;34m]\u001b[0m\u001b[0;34m\u001b[0m\u001b[0m\n\u001b[0;32m---> 40\u001b[0;31m         \u001b[0;32mreturn\u001b[0m \u001b[0mpred\u001b[0m\u001b[0;34m,\u001b[0m \u001b[0mself\u001b[0m\u001b[0;34m.\u001b[0m\u001b[0mdepth_sim\u001b[0m\u001b[0;34m[\u001b[0m\u001b[0mans\u001b[0m\u001b[0;34m]\u001b[0m\u001b[0;34m\u001b[0m\u001b[0m\n\u001b[0m\u001b[1;32m     41\u001b[0m \u001b[0;34m\u001b[0m\u001b[0m\n\u001b[1;32m     42\u001b[0m \u001b[0;32mif\u001b[0m \u001b[0m__name__\u001b[0m\u001b[0;34m==\u001b[0m\u001b[0;34m\"__main__\"\u001b[0m\u001b[0;34m:\u001b[0m\u001b[0;34m\u001b[0m\u001b[0m\n",
      "\u001b[0;31mIndexError\u001b[0m: index 7882 is out of bounds for axis 0 with size 4500"
     ]
    }
   ],
   "source": [
    "import random\n",
    "ind = random.randint(1,depth_orig.shape[0])\n",
    "vec = depth_orig[ind,:]\n",
    "target, matched = finder.get_target(vec)\n",
    "print(target)\n",
    "vis_depth(vec)\n",
    "vis_depth(matched)"
   ]
  }
 ],
 "metadata": {
  "kernelspec": {
   "display_name": "Python 3",
   "language": "python",
   "name": "python3"
  },
  "language_info": {
   "codemirror_mode": {
    "name": "ipython",
    "version": 3
   },
   "file_extension": ".py",
   "mimetype": "text/x-python",
   "name": "python",
   "nbconvert_exporter": "python",
   "pygments_lexer": "ipython3",
   "version": "3.6.3"
  }
 },
 "nbformat": 4,
 "nbformat_minor": 2
}

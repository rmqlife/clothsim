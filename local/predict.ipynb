{
 "cells": [
  {
   "cell_type": "code",
   "execution_count": null,
   "metadata": {},
   "outputs": [
    {
     "name": "stdout",
     "output_type": "stream",
     "text": [
      "loaded (50000, 4096) (50000, 6) (50000, 6)\n"
     ]
    }
   ],
   "source": [
    "import numpy as np\n",
    "import cv2\n",
    "import matplotlib.pyplot as plt\n",
    "from scipy.spatial import cKDTree\n",
    "from predict import *\n",
    "from util import *\n",
    "\n",
    "\n",
    "\n",
    "class Finder:\n",
    "    def __init__(self, depth_sim, pos_sim, hint_sim):\n",
    "        self.use_simple=True\n",
    "        self.debug=False\n",
    "        self.pos_sim = pos_sim\n",
    "        self.hint_sim = hint_sim\n",
    "        self.depth_sim = depth_sim\n",
    "        if self.use_simple:\n",
    "            self.nn = Nearest(depth_sim)\n",
    "        \n",
    "        pass\n",
    "    \n",
    "    def get_target2(self, vec, hint):\n",
    "        ans = closest(vec=hint, mat=self.hint_sim, thresh=0.05)\n",
    "        print(ans)\n",
    "    \n",
    "    def get_target(self, vec):\n",
    "        if self.use_simple:\n",
    "            pred, ans = nearest_predict(vec=vec\n",
    "                                      ,mat=self.depth_sim\n",
    "                                      ,pos=self.pos_sim)\n",
    "        else:\n",
    "            dist, ans = self.nn.findNeigh(depth_orig[i,:])\n",
    "            pred = pos_sim[ans]\n",
    "        if self.debug:\n",
    "            vis_depth(depth_orig[i,:])\n",
    "            vis_depth(depth_sim[ans,:])\n",
    "        \n",
    "        pred = pred.tolist()\n",
    "        pred = pred[-3:]+pred[:3]\n",
    "        return pred, self.depth_sim[ans]\n",
    "\n",
    "if __name__==\"__main__\":\n",
    "    sim_dir = 'large02/'\n",
    "    depth_sim = np.load(os.path.join(sim_dir,'depth_sim_bg.npy'))\n",
    "    hint_sim = np.load(os.path.join(sim_dir,'handles.npy'))[:,-6:]\n",
    "    pos_sim = np.load(os.path.join(sim_dir,'expert.npy'))\n",
    "    print(\"loaded\",depth_sim.shape, pos_sim.shape, hint_sim.shape)\n",
    "    finder = Finder(depth_sim, pos_sim, hint_sim)\n",
    "    orig_dir = '22'\n",
    "    depth_orig = np.load(os.path.join(orig_dir,'depth_orig.npy'))\n",
    "    hint_orig = np.load(os.path.join(orig_dir,'robot_pos.npy'))\n",
    "    # depth_sim = np.load('realtest/depth_sim_real.npy')\n",
    "    # pos_sim = np.load('realtest/handles.npy')[:,-6:]\n",
    "    ind = 0\n",
    "    vec = depth_orig[ind,:]\n",
    "    target, matched = finder.get_target(vec)\n",
    "    vis_depth(vec)\n",
    "    vis_depth(matched)\n",
    "    print(target)\n",
    "    \n",
    "\n"
   ]
  },
  {
   "cell_type": "code",
   "execution_count": 401,
   "metadata": {},
   "outputs": [
    {
     "name": "stdout",
     "output_type": "stream",
     "text": [
      "loaded (9749, 4096) (9749, 6) (9749, 6)\n"
     ]
    }
   ],
   "source": [
    "\n",
    "# depth_sim = np.load('realtest/depth_sim_real.npy')\n",
    "# pos_sim = np.load('realtest/handles.npy')[:,-6:]"
   ]
  },
  {
   "cell_type": "code",
   "execution_count": null,
   "metadata": {
    "collapsed": true
   },
   "outputs": [],
   "source": []
  },
  {
   "cell_type": "code",
   "execution_count": 70,
   "metadata": {},
   "outputs": [
    {
     "name": "stdout",
     "output_type": "stream",
     "text": [
      "loaded (91453, 4096) (96989, 6) (96989, 6)\n",
      "265\n",
      "hint [0.3959171776507632, 0.16325318669111155, 0.4244216247668812, 0.39769332098919563, -0.09029751933569952, 0.4072728433183542]\n",
      "cands 2017\n"
     ]
    },
    {
     "ename": "IndexError",
     "evalue": "index 91758 is out of bounds for axis 0 with size 91453",
     "output_type": "error",
     "traceback": [
      "\u001b[0;31m----------------------------------------------\u001b[0m",
      "\u001b[0;31mIndexError\u001b[0m   Traceback (most recent call last)",
      "\u001b[0;32m<ipython-input-70-804497fb386a>\u001b[0m in \u001b[0;36m<module>\u001b[0;34m()\u001b[0m\n\u001b[1;32m     63\u001b[0m \u001b[0mhint\u001b[0m \u001b[0;34m=\u001b[0m \u001b[0mhint_orig\u001b[0m\u001b[0;34m[\u001b[0m\u001b[0mind\u001b[0m\u001b[0;34m,\u001b[0m\u001b[0;34m:\u001b[0m\u001b[0;34m]\u001b[0m\u001b[0;34m.\u001b[0m\u001b[0mtolist\u001b[0m\u001b[0;34m(\u001b[0m\u001b[0;34m)\u001b[0m\u001b[0;34m\u001b[0m\u001b[0m\n\u001b[1;32m     64\u001b[0m \u001b[0mprint\u001b[0m\u001b[0;34m(\u001b[0m\u001b[0;34m\"hint\"\u001b[0m\u001b[0;34m,\u001b[0m\u001b[0mhint\u001b[0m\u001b[0;34m)\u001b[0m\u001b[0;34m\u001b[0m\u001b[0m\n\u001b[0;32m---> 65\u001b[0;31m \u001b[0mprint\u001b[0m\u001b[0;34m(\u001b[0m\u001b[0;34m\"target\"\u001b[0m\u001b[0;34m,\u001b[0m\u001b[0mfind_target\u001b[0m\u001b[0;34m(\u001b[0m\u001b[0mdepth\u001b[0m\u001b[0;34m,\u001b[0m\u001b[0mhint\u001b[0m\u001b[0;34m)\u001b[0m\u001b[0;34m)\u001b[0m\u001b[0;34m\u001b[0m\u001b[0m\n\u001b[0m\u001b[1;32m     66\u001b[0m \u001b[0;34m\u001b[0m\u001b[0m\n\u001b[1;32m     67\u001b[0m \u001b[0mvis_depth\u001b[0m\u001b[0;34m(\u001b[0m\u001b[0mdepth\u001b[0m\u001b[0;34m)\u001b[0m\u001b[0;34m\u001b[0m\u001b[0m\n",
      "\u001b[0;32m<ipython-input-70-804497fb386a>\u001b[0m in \u001b[0;36mfind_target\u001b[0;34m(depth, hint)\u001b[0m\n\u001b[1;32m     31\u001b[0m     \u001b[0mprint\u001b[0m\u001b[0;34m(\u001b[0m\u001b[0;34m\"cands\"\u001b[0m\u001b[0;34m,\u001b[0m\u001b[0mlen\u001b[0m\u001b[0;34m(\u001b[0m\u001b[0mcands\u001b[0m\u001b[0;34m)\u001b[0m\u001b[0;34m)\u001b[0m\u001b[0;34m\u001b[0m\u001b[0m\n\u001b[1;32m     32\u001b[0m     \u001b[0;32mif\u001b[0m \u001b[0;34m(\u001b[0m\u001b[0mlen\u001b[0m\u001b[0;34m(\u001b[0m\u001b[0mcands\u001b[0m\u001b[0;34m)\u001b[0m\u001b[0;34m>\u001b[0m\u001b[0;36m0\u001b[0m\u001b[0;34m)\u001b[0m\u001b[0;34m:\u001b[0m\u001b[0;34m\u001b[0m\u001b[0m\n\u001b[0;32m---> 33\u001b[0;31m         \u001b[0mpred\u001b[0m\u001b[0;34m,\u001b[0m \u001b[0mvec\u001b[0m \u001b[0;34m=\u001b[0m \u001b[0mnearest_predict\u001b[0m\u001b[0;34m(\u001b[0m\u001b[0mvec\u001b[0m\u001b[0;34m=\u001b[0m\u001b[0mdepth\u001b[0m\u001b[0;34m,\u001b[0m \u001b[0mmat\u001b[0m\u001b[0;34m=\u001b[0m\u001b[0mdepth_sim\u001b[0m\u001b[0;34m[\u001b[0m\u001b[0mcands\u001b[0m\u001b[0;34m]\u001b[0m\u001b[0;34m,\u001b[0m \u001b[0mpos\u001b[0m\u001b[0;34m=\u001b[0m\u001b[0mpos_sim\u001b[0m\u001b[0;34m[\u001b[0m\u001b[0mcands\u001b[0m\u001b[0;34m]\u001b[0m\u001b[0;34m)\u001b[0m\u001b[0;34m\u001b[0m\u001b[0m\n\u001b[0m\u001b[1;32m     34\u001b[0m         \u001b[0mvis_depth\u001b[0m\u001b[0;34m(\u001b[0m\u001b[0mvec\u001b[0m\u001b[0;34m)\u001b[0m\u001b[0;34m\u001b[0m\u001b[0m\n\u001b[1;32m     35\u001b[0m         \u001b[0mpred\u001b[0m \u001b[0;34m=\u001b[0m \u001b[0mpred\u001b[0m\u001b[0;34m.\u001b[0m\u001b[0mtolist\u001b[0m\u001b[0;34m(\u001b[0m\u001b[0;34m)\u001b[0m\u001b[0;34m\u001b[0m\u001b[0m\n",
      "\u001b[0;31mIndexError\u001b[0m: index 91758 is out of bounds for axis 0 with size 91453"
     ]
    }
   ],
   "source": [
    "def closest(vec, mat,thresh):\n",
    "    res = np.zeros(mat.shape[0])\n",
    "    ans = []\n",
    "    for i in range(mat.shape[0]):\n",
    "        vec2 = mat[i,:]\n",
    "        from numpy.linalg import norm\n",
    "        dist1 = norm(vec[:3]-vec2[:3])\n",
    "        dist2 = norm(vec[-3:]-vec2[-3:])\n",
    "        #print(dist)\n",
    "        if dist1<thresh and dist2<thresh:\n",
    "            ans = ans + [i]\n",
    "        \n",
    "    return ans\n",
    "def nearest_predict(vec,mat,pos):\n",
    "    vec = vec.astype(int)\n",
    "    mat = mat.astype(int)\n",
    "    res = np.zeros(mat.shape[0])\n",
    "    for i in range(mat.shape[0]):\n",
    "        vec2= mat[i,:]\n",
    "        dt = np.sum(abs(vec-vec2))\n",
    "        res[i]=dt\n",
    "    # find top answer's indices in mat\n",
    "    ans = np.argsort(res)[:1]\n",
    "#     for i in ans:\n",
    "#         vis_depth(mat[i,:])\n",
    "    return np.mean(pos[ans], axis=0), mat[ans[0]]\n",
    "\n",
    "def find_target(depth, hint):\n",
    "    hint = hint[-3:]+hint[:3]\n",
    "    cands = closest(vec=hint, mat=hint_sim, thresh=0.1)\n",
    "    print(\"cands\",len(cands))\n",
    "    if (len(cands)>0):\n",
    "        pred, vec = nearest_predict(vec=depth, mat=depth_sim[cands], pos=pos_sim[cands])\n",
    "        vis_depth(vec)\n",
    "        pred = pred.tolist()\n",
    "        pred = pred[-3:]+pred[:3]\n",
    "        return pred\n",
    "    print(\"no solution!\")\n",
    "    hint = hint[-3:]+hint[:3]\n",
    "    return hint\n",
    "\n",
    "import numpy as np\n",
    "import os\n",
    "from predict import *\n",
    "\n",
    "orig_dir = './'\n",
    "depth_orig = np.load(os.path.join(orig_dir,'depth_orig.npy'))\n",
    "hint_orig = np.load(os.path.join(orig_dir,'robot_pos.npy'))\n",
    "\n",
    "\n",
    "sim_dir = './large/'\n",
    "depth_sim = np.load(os.path.join(sim_dir,'depth_sim_bg.npy'))\n",
    "hint_sim = np.load(os.path.join(sim_dir,'handles.npy'))[:,-6:]\n",
    "pos_sim = np.load(os.path.join(sim_dir,'expert.npy'))\n",
    "print(\"loaded\",depth_sim.shape, pos_sim.shape, hint_sim.shape)\n",
    "\n",
    "\n",
    "\n",
    "import random\n",
    "ind = random.randint(1,depth_orig.shape[0])\n",
    "print(ind)\n",
    "depth = depth_orig[ind,:]\n",
    "hint = hint_orig[ind,:].tolist()\n",
    "print(\"hint\",hint)\n",
    "print(\"target\",find_target(depth,hint))\n",
    "\n",
    "vis_depth(depth)\n"
   ]
  },
  {
   "cell_type": "code",
   "execution_count": 71,
   "metadata": {},
   "outputs": [
    {
     "name": "stdout",
     "output_type": "stream",
     "text": [
      "(91453, 4096)\n"
     ]
    }
   ],
   "source": [
    "print(depth_sim.shape)"
   ]
  },
  {
   "cell_type": "code",
   "execution_count": 69,
   "metadata": {
    "scrolled": true
   },
   "outputs": [
    {
     "name": "stdout",
     "output_type": "stream",
     "text": [
      "hint [0.3996940423020817, 0.16635190104844144, 0.403738022997919, 0.5182291753372449, -0.013122197165780475, 0.4043675849290318]\n",
      "cands 7077\n"
     ]
    },
    {
     "data": {
      "image/png": "[encoded data removed]",
      "text/plain": [
       "<matplotlib.figure.Figure at 0x7f67b4e94be0>"
      ]
     },
     "metadata": {},
     "output_type": "display_data"
    },
    {
     "name": "stdout",
     "output_type": "stream",
     "text": [
      "target [0.33675811561367847, -0.08097707134598789, 0.19252075653541437, 0.3424588169243836, -0.12167850719859752, 0.37972922475001336]\n"
     ]
    },
    {
     "data": {
      "image/png": "[encoded data removed]",
      "text/plain": [
       "<matplotlib.figure.Figure at 0x7f679b802828>"
      ]
     },
     "metadata": {},
     "output_type": "display_data"
    }
   ],
   "source": [
    "def find_target(depth, hint):\n",
    "    hint = hint[-3:]+hint[:3]\n",
    "    cands = closest(vec=hint, mat=hint_sim, thresh=0.1)\n",
    "    print(\"cands\",len(cands))\n",
    "    if (len(cands)>0):\n",
    "        pred, vec = nearest_predict(vec=depth, mat=depth_sim[cands], pos=pos_sim[cands])\n",
    "        vis_depth(vec)\n",
    "        pred = pred.tolist()\n",
    "        pred = pred[-3:]+pred[:3]\n",
    "        return pred\n",
    "    print(\"no solution!\")\n",
    "    hint = hint[-3:]+hint[:3]\n",
    "    return hint\n",
    "\n",
    "\n",
    "import random\n",
    "print\n",
    "ind = random.randint(1,depth_orig.shape[0])\n",
    "depth = depth_orig[ind,:]\n",
    "hint = hint_orig[ind,:].tolist()\n",
    "print(\"hint\",hint)\n",
    "print(\"target\",find_target(depth,hint))\n",
    "\n",
    "vis_depth(depth)\n"
   ]
  },
  {
   "cell_type": "code",
   "execution_count": 143,
   "metadata": {},
   "outputs": [
    {
     "ename": "IndexError",
     "evalue": "index 7882 is out of bounds for axis 0 with size 4500",
     "output_type": "error",
     "traceback": [
      "\u001b[0;31m---------------------\u001b[0m",
      "\u001b[0;31mIndexError\u001b[0mTraceback (most recent call last)",
      "\u001b[0;32m<ipython-input-143-6d40c3aaa4da>\u001b[0m in \u001b[0;36m<module>\u001b[0;34m()\u001b[0m\n\u001b[1;32m      2\u001b[0m \u001b[0mind\u001b[0m \u001b[0;34m=\u001b[0m \u001b[0mrandom\u001b[0m\u001b[0;34m.\u001b[0m\u001b[0mrandint\u001b[0m\u001b[0;34m(\u001b[0m\u001b[0;36m1\u001b[0m\u001b[0;34m,\u001b[0m\u001b[0mdepth_orig\u001b[0m\u001b[0;34m.\u001b[0m\u001b[0mshape\u001b[0m\u001b[0;34m[\u001b[0m\u001b[0;36m0\u001b[0m\u001b[0;34m]\u001b[0m\u001b[0;34m)\u001b[0m\u001b[0;34m\u001b[0m\u001b[0m\n\u001b[1;32m      3\u001b[0m \u001b[0mvec\u001b[0m \u001b[0;34m=\u001b[0m \u001b[0mdepth_orig\u001b[0m\u001b[0;34m[\u001b[0m\u001b[0mind\u001b[0m\u001b[0;34m,\u001b[0m\u001b[0;34m:\u001b[0m\u001b[0;34m]\u001b[0m\u001b[0;34m\u001b[0m\u001b[0m\n\u001b[0;32m----> 4\u001b[0;31m \u001b[0mtarget\u001b[0m\u001b[0;34m,\u001b[0m \u001b[0mmatched\u001b[0m \u001b[0;34m=\u001b[0m \u001b[0mfinder\u001b[0m\u001b[0;34m.\u001b[0m\u001b[0mget_target\u001b[0m\u001b[0;34m(\u001b[0m\u001b[0mvec\u001b[0m\u001b[0;34m)\u001b[0m\u001b[0;34m\u001b[0m\u001b[0m\n\u001b[0m\u001b[1;32m      5\u001b[0m \u001b[0mprint\u001b[0m\u001b[0;34m(\u001b[0m\u001b[0mtarget\u001b[0m\u001b[0;34m)\u001b[0m\u001b[0;34m\u001b[0m\u001b[0m\n\u001b[1;32m      6\u001b[0m \u001b[0mvis_depth\u001b[0m\u001b[0;34m(\u001b[0m\u001b[0mvec\u001b[0m\u001b[0;34m)\u001b[0m\u001b[0;34m\u001b[0m\u001b[0m\n",
      "\u001b[0;32m<ipython-input-62-27b1b7f031b5>\u001b[0m in \u001b[0;36mget_target\u001b[0;34m(self, vec)\u001b[0m\n\u001b[1;32m     38\u001b[0m         \u001b[0mpred\u001b[0m \u001b[0;34m=\u001b[0m \u001b[0mpred\u001b[0m\u001b[0;34m.\u001b[0m\u001b[0mtolist\u001b[0m\u001b[0;34m(\u001b[0m\u001b[0;34m)\u001b[0m\u001b[0;34m\u001b[0m\u001b[0m\n\u001b[1;32m     39\u001b[0m         \u001b[0mpred\u001b[0m \u001b[0;34m=\u001b[0m \u001b[0mpred\u001b[0m\u001b[0;34m[\u001b[0m\u001b[0;34m-\u001b[0m\u001b[0;36m3\u001b[0m\u001b[0;34m:\u001b[0m\u001b[0;34m]\u001b[0m\u001b[0;34m+\u001b[0m\u001b[0mpred\u001b[0m\u001b[0;34m[\u001b[0m\u001b[0;34m:\u001b[0m\u001b[0;36m3\u001b[0m\u001b[0;34m]\u001b[0m\u001b[0;34m\u001b[0m\u001b[0m\n\u001b[0;32m---> 40\u001b[0;31m         \u001b[0;32mreturn\u001b[0m \u001b[0mpred\u001b[0m\u001b[0;34m,\u001b[0m \u001b[0mself\u001b[0m\u001b[0;34m.\u001b[0m\u001b[0mdepth_sim\u001b[0m\u001b[0;34m[\u001b[0m\u001b[0mans\u001b[0m\u001b[0;34m]\u001b[0m\u001b[0;34m\u001b[0m\u001b[0m\n\u001b[0m\u001b[1;32m     41\u001b[0m \u001b[0;34m\u001b[0m\u001b[0m\n\u001b[1;32m     42\u001b[0m \u001b[0;32mif\u001b[0m \u001b[0m__name__\u001b[0m\u001b[0;34m==\u001b[0m\u001b[0;34m\"__main__\"\u001b[0m\u001b[0;34m:\u001b[0m\u001b[0;34m\u001b[0m\u001b[0m\n",
      "\u001b[0;31mIndexError\u001b[0m: index 7882 is out of bounds for axis 0 with size 4500"
     ]
    }
   ],
   "source": [
    "import random\n",
    "ind = random.randint(1,depth_orig.shape[0])\n",
    "vec = depth_orig[ind,:]\n",
    "target, matched = finder.get_target(vec)\n",
    "print(target)\n",
    "vis_depth(vec)\n",
    "vis_depth(matched)"
   ]
  }
 ],
 "metadata": {
  "kernelspec": {
   "display_name": "Python 3",
   "language": "python",
   "name": "python3"
  },
  "language_info": {
   "codemirror_mode": {
    "name": "ipython",
    "version": 3
   },
   "file_extension": ".py",
   "mimetype": "text/x-python",
   "name": "python",
   "nbconvert_exporter": "python",
   "pygments_lexer": "ipython3",
   "version": "3.6.3"
  }
 },
 "nbformat": 4,
 "nbformat_minor": 2
}

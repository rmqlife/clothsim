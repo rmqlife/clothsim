{
 "cells": [
  {
   "cell_type": "code",
   "execution_count": 187,
   "metadata": {},
   "outputs": [
    {
     "name": "stdout",
     "output_type": "stream",
     "text": [
      "[[ 0.55830802 -0.17057873  0.06070259]\n",
      " [ 0.54702463  0.16470575  0.01352225]\n",
      " [ 0.4918203  -0.11984081  0.47457296]\n",
      " [ 0.48943184  0.1678617   0.47914139]]\n",
      "(50, 12)\n",
      "[[ 0.51031546  0.02650086  0.2371468 ]\n",
      " [ 0.44153969  0.1905105   0.19724004]\n",
      " [ 0.64040753 -0.10920183  0.30409287]\n",
      " [ 0.65634862  0.19500449  0.41265564]]\n"
     ]
    }
   ],
   "source": [
    "import numpy as np\n",
    "class Handles:\n",
    "    def __init__(self,cloth_x, cloth_y, handles, ext=0.03):\n",
    "        self.cloth_x = cloth_x\n",
    "        self.cloth_y = cloth_y\n",
    "        self.init_handles = np.array(handles)\n",
    "        self.ext = ext\n",
    "        \n",
    "    def noisen(self,x,n):\n",
    "        from random import uniform\n",
    "        ret = np.zeros(n)\n",
    "        for i in range(n):\n",
    "            ret[i]=uniform(-x,x)\n",
    "        return ret\n",
    "\n",
    "    def dist3d(self,p1,p2):\n",
    "        return np.linalg.norm(np.subtract(p1,p2))\n",
    "\n",
    "    def random_handles(self):\n",
    "        while True:\n",
    "            handles = self.init_handles.copy()\n",
    "            for i in range(handles.shape[0]):\n",
    "                handles[i,:] += self.noisen(x=0.2, n=3) \n",
    "            valid = 1\n",
    "            valid &= self.dist3d(handles[0],handles[1])<self.cloth_x + self.ext\n",
    "            valid &= self.dist3d(handles[2],handles[3])<self.cloth_x + self.ext\n",
    "            valid &= self.dist3d(handles[0],handles[2])<self.cloth_y + self.ext\n",
    "            valid &= self.dist3d(handles[1],handles[3])<self.cloth_y + self.ext\n",
    "            #print(self.dist3d(handles[0],handles[2]),valid)\n",
    "            if valid==1:\n",
    "                break\n",
    "        return handles\n",
    "\n",
    "\n",
    "cloth_x = 0.3\n",
    "cloth_y = 0.35\n",
    "rr = [0.48943184,0.1678617,0.47914139]\n",
    "rl = [0.4918203,-0.11984081,0.47457296]\n",
    "\n",
    "hl = [0.55830802,-0.17057873,0.06070259]\n",
    "hr = [0.54702463,0.16470575,0.01352225]\n",
    "robot_pos=[rl,rr]\n",
    "hands_pos=[hl,hr]\n",
    "handles = np.array(hands_pos + robot_pos)\n",
    "Handles = Handles(cloth_x=cloth_x, cloth_y=cloth_y, handles=handles)\n",
    "\n",
    "pos_num = 50\n",
    "tt_handles = np.zeros((pos_num,4*3))\n",
    "tt_handles[0,:] = np.array(handles).reshape(-1,)\n",
    "print(handles)\n",
    "for i in range(1,pos_num):\n",
    "    #print(tt_pos)\n",
    "    res = Handles.random_handles()\n",
    "    tt_handles[i,:] = res.reshape(-1,)\n",
    "print(tt_handles.shape)\n",
    "print(tt_handles[1].reshape(4,3))\n",
    "np.save(\"tt_handles\",tt_handles)"
   ]
  }
 ],
 "metadata": {
  "kernelspec": {
   "display_name": "Python 3",
   "language": "python",
   "name": "python3"
  },
  "language_info": {
   "codemirror_mode": {
    "name": "ipython",
    "version": 3
   },
   "file_extension": ".py",
   "mimetype": "text/x-python",
   "name": "python",
   "nbconvert_exporter": "python",
   "pygments_lexer": "ipython3",
   "version": "3.6.3"
  }
 },
 "nbformat": 4,
 "nbformat_minor": 2
}
